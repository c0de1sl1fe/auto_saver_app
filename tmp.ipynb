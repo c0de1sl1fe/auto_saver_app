{
 "cells": [
  {
   "cell_type": "code",
   "execution_count": 1,
   "metadata": {},
   "outputs": [],
   "source": [
    "import os\n",
    "import shutil"
   ]
  },
  {
   "cell_type": "code",
   "execution_count": 4,
   "metadata": {},
   "outputs": [],
   "source": [
    "n = os.path.join(\"D:/test\\save_test\\dst\", \"tmp\")\n",
    "\n",
    "\n",
    "t = os.mkdir(n)\n",
    "t"
   ]
  },
  {
   "cell_type": "code",
   "execution_count": 4,
   "metadata": {},
   "outputs": [],
   "source": [
    "# if os.path.exists(\"test\"):\n",
    "#     print(\"false\")\n",
    "os.mkdir(\"test_folder\")\n",
    "\n"
   ]
  },
  {
   "cell_type": "code",
   "execution_count": 14,
   "metadata": {},
   "outputs": [
    {
     "data": {
      "text/plain": [
       "'test_folder'"
      ]
     },
     "execution_count": 14,
     "metadata": {},
     "output_type": "execute_result"
    }
   ],
   "source": [
    "from utils import container_to_save_data\n",
    "import shutil\n",
    "t = container_to_save_data('t', 's', 0)\n",
    "# t.copy_folder(\"test\", \"test_folder/\", ignore=\".txt\")\n",
    "shutil.copytree(\"test\", 'test_folder', ignore=shutil.ignore_patterns(\"*.txt\"))"
   ]
  },
  {
   "cell_type": "code",
   "execution_count": 14,
   "metadata": {},
   "outputs": [
    {
     "name": "stdout",
     "output_type": "stream",
     "text": [
      "testtessst\n"
     ]
    }
   ],
   "source": [
    "import shutil\n",
    "\n",
    "with open(\"t1/test_folder/myfile.txt\", \"a\") as f:\n",
    "    f.write(\"tessst\")\n",
    "\n",
    "with open(\"t1/myfile.txt\", \"r\") as f:\n",
    "    tmp = f.read()\n",
    "    \n",
    "    print(tmp)\n",
    "\n",
    "\n"
   ]
  },
  {
   "cell_type": "code",
   "execution_count": 9,
   "metadata": {},
   "outputs": [
    {
     "name": "stdout",
     "output_type": "stream",
     "text": [
      "testtessst\n"
     ]
    }
   ],
   "source": [
    "\n",
    "shutil.copy(\"t1/myfile.txt\", 't2/myfile.txt')\n",
    "with open(\"t2/myfile.txt\", \"r\") as f:\n",
    "    tmp = f.read()\n",
    "    print(tmp)\n"
   ]
  },
  {
   "cell_type": "code",
   "execution_count": 25,
   "metadata": {},
   "outputs": [
    {
     "name": "stdout",
     "output_type": "stream",
     "text": [
      "error [WinError 183] Cannot create a file when that file already exists: 'new_t'\n"
     ]
    }
   ],
   "source": [
    "try:\n",
    "    shutil.copytree(\"t1\", \"new_t\")\n",
    "except Exception as e:\n",
    "    print(f\"error {e}\")"
   ]
  },
  {
   "cell_type": "code",
   "execution_count": 23,
   "metadata": {},
   "outputs": [
    {
     "name": "stdout",
     "output_type": "stream",
     "text": [
      "Error: new_t - The system cannot find the path specified.\n"
     ]
    }
   ],
   "source": [
    "try:\n",
    "    shutil.rmtree(\"new_t\")\n",
    "except OSError as e:\n",
    "    print(\"Error: %s - %s.\" % (e.filename, e.strerror))\n"
   ]
  },
  {
   "cell_type": "code",
   "execution_count": 33,
   "metadata": {},
   "outputs": [],
   "source": [
    "from filecmp import dircmp\n",
    "def print_diff_files(dcmp):\n",
    "    for name in dcmp.diff_files:\n",
    "        print(\"diff_file %s found in %s and %s\" % (name, dcmp.left,\n",
    "              dcmp.right))\n",
    "    for sub_dcmp in dcmp.subdirs.values():\n",
    "        print_diff_files(sub_dcmp)"
   ]
  },
  {
   "cell_type": "code",
   "execution_count": 6,
   "metadata": {},
   "outputs": [
    {
     "data": {
      "text/plain": [
       "True"
      ]
     },
     "execution_count": 6,
     "metadata": {},
     "output_type": "execute_result"
    }
   ],
   "source": [
    "import filecmp\n",
    "import os.path\n",
    "\n",
    "def are_dir_trees_equal(dir1, dir2):\n",
    "    \"\"\"\n",
    "    Compare two directories recursively. Files in each directory are\n",
    "    assumed to be equal if their names and contents are equal.\n",
    "\n",
    "    param dir1: First directory path\n",
    "    param dir2: Second directory path\n",
    "\n",
    "    return: True if the directory trees are the same and \n",
    "        there were no errors while accessing the directories or files, \n",
    "        False otherwise.\n",
    "   \"\"\"\n",
    "\n",
    "    dirs_cmp = filecmp.dircmp(dir1, dir2)\n",
    "    if len(dirs_cmp.left_only)>0 or len(dirs_cmp.right_only)>0 or \\\n",
    "        len(dirs_cmp.funny_files)>0:\n",
    "        return False\n",
    "    (_, mismatch, errors) =  filecmp.cmpfiles(\n",
    "        dir1, dir2, dirs_cmp.common_files, shallow=False)\n",
    "    if len(mismatch)>0 or len(errors)>0:\n",
    "        return False\n",
    "    for common_dir in dirs_cmp.common_dirs:\n",
    "        new_dir1 = os.path.join(dir1, common_dir)\n",
    "        new_dir2 = os.path.join(dir2, common_dir)\n",
    "        if not are_dir_trees_equal(new_dir1, new_dir2):\n",
    "            return False\n",
    "    return True\n",
    "\n",
    "\n",
    "\n",
    "are_dir_trees_equal(\"test/1\", 'test/2')"
   ]
  },
  {
   "cell_type": "code",
   "execution_count": 1,
   "metadata": {},
   "outputs": [
    {
     "name": "stdout",
     "output_type": "stream",
     "text": [
      "empty\n"
     ]
    }
   ],
   "source": [
    "ignore = []\n",
    "if not ignore: \n",
    "    print(\"empty\")"
   ]
  },
  {
   "cell_type": "code",
   "execution_count": 11,
   "metadata": {},
   "outputs": [
    {
     "data": {
      "text/plain": [
       "False"
      ]
     },
     "execution_count": 11,
     "metadata": {},
     "output_type": "execute_result"
    }
   ],
   "source": [
    "from utils import container_to_save_data\n",
    "l = container_to_save_data('test', \"test_folder\", 0)\n",
    "l.copy_folder(\"test/1\", \"test/t\")\n"
   ]
  },
  {
   "cell_type": "code",
   "execution_count": 102,
   "metadata": {},
   "outputs": [
    {
     "data": {
      "text/plain": [
       "<function shutil.ignore_patterns.<locals>._ignore_patterns(path, names)>"
      ]
     },
     "execution_count": 102,
     "metadata": {},
     "output_type": "execute_result"
    }
   ],
   "source": [
    "import os\n",
    "import shutil\n",
    "def copy_folder(src: str, dst: str, ignore = []) -> bool:\n",
    "    \"\"\"\n",
    "    Create a copy of scr into dst\n",
    "    input:  src:     string\n",
    "            dst:     string\n",
    "            ingnore: list of ignored files\n",
    "    return: bool\n",
    "    \"\"\"\n",
    "    if not os.path.exists(src):\n",
    "        return False\n",
    "    try:\n",
    "        if ignore:\n",
    "            shutil.copytree(src, dst, ignore=shutil.ignore_patterns(*ignore), dirs_exist_ok=True)\n",
    "        else:\n",
    "            shutil.copytree(src, dst, dirs_exist_ok=True)\n",
    "        return True\n",
    "    except Exception as e:\n",
    "        print(f\"error {e}\")\n",
    "        return False\n",
    "    \n",
    "copy_folder(\"test_folder/test_src\", \"test_folder/2/backup\", ignore)\n",
    "\n",
    "shutil.ignore_patterns('*.pyc', 'tmp*')\n"
   ]
  },
  {
   "cell_type": "code",
   "execution_count": 100,
   "metadata": {},
   "outputs": [
    {
     "ename": "TypeError",
     "evalue": "test_foo() takes 1 positional argument but 2 were given",
     "output_type": "error",
     "traceback": [
      "\u001b[1;31m---------------------------------------------------------------------------\u001b[0m",
      "\u001b[1;31mTypeError\u001b[0m                                 Traceback (most recent call last)",
      "\u001b[1;32md:\\Git\\auto_saver_app\\tmp.ipynb Cell 14\u001b[0m line \u001b[0;36m5\n\u001b[0;32m      <a href='vscode-notebook-cell:/d%3A/Git/auto_saver_app/tmp.ipynb#X41sZmlsZQ%3D%3D?line=0'>1</a>\u001b[0m \u001b[39mdef\u001b[39;00m \u001b[39mtest_foo\u001b[39m(a):\n\u001b[0;32m      <a href='vscode-notebook-cell:/d%3A/Git/auto_saver_app/tmp.ipynb#X41sZmlsZQ%3D%3D?line=1'>2</a>\u001b[0m     \u001b[39mprint\u001b[39m(\u001b[39mtype\u001b[39m(a))\n\u001b[1;32m----> <a href='vscode-notebook-cell:/d%3A/Git/auto_saver_app/tmp.ipynb#X41sZmlsZQ%3D%3D?line=4'>5</a>\u001b[0m test_foo(\u001b[39m\"\u001b[39;49m\u001b[39mt\u001b[39;49m\u001b[39m\"\u001b[39;49m, \u001b[39m\"\u001b[39;49m\u001b[39mt\u001b[39;49m\u001b[39m\"\u001b[39;49m)\n",
      "\u001b[1;31mTypeError\u001b[0m: test_foo() takes 1 positional argument but 2 were given"
     ]
    }
   ],
   "source": [
    "def test_foo(a):\n",
    "    print(type(a))\n",
    "\n",
    "\n",
    "test_foo(\"t\", \"t\")"
   ]
  },
  {
   "cell_type": "code",
   "execution_count": 21,
   "metadata": {},
   "outputs": [
    {
     "name": "stdout",
     "output_type": "stream",
     "text": [
      "1\n"
     ]
    }
   ],
   "source": [
    "test = \"d/test/t\"\n",
    "test1 = \"d/test\"\n",
    "if test1 in test:\n",
    "    print(1)"
   ]
  },
  {
   "cell_type": "code",
   "execution_count": 26,
   "metadata": {},
   "outputs": [
    {
     "data": {
      "text/plain": [
       "'test_1'"
      ]
     },
     "execution_count": 26,
     "metadata": {},
     "output_type": "execute_result"
    }
   ],
   "source": [
    "shutil.move(\"test\", \"test_1\")"
   ]
  },
  {
   "cell_type": "code",
   "execution_count": 54,
   "metadata": {},
   "outputs": [
    {
     "name": "stdout",
     "output_type": "stream",
     "text": [
      "D:/Git/auto_saver_app/test_folder/test_dst\\test_src backup_08.12.2023_21h29m57s\n"
     ]
    }
   ],
   "source": [
    "from datetime import datetime\n",
    "\n",
    "# datetime object containing current date and time\n",
    "now = datetime.now()\n",
    "src = \"D:/Git/auto_saver_app/test_folder/test_src\"\n",
    "dst = \"D:/Git/auto_saver_app/test_folder/test_dst\"\n",
    "\n",
    "if src in dst: \n",
    "    print(1)\n",
    "if dst in src: \n",
    "    print(2)\n",
    "# now = datetime.now()\n",
    "\n",
    "tmp = os.path.join(dst, os.path.basename(src)+\" backup_\" +str(now.strftime(\"%d.%m.%Y_%Hh%Mm%Ss\")))\n",
    "print(tmp)\n",
    "\n",
    "\n",
    "\n"
   ]
  },
  {
   "cell_type": "code",
   "execution_count": 85,
   "metadata": {},
   "outputs": [
    {
     "name": "stdout",
     "output_type": "stream",
     "text": [
      "['test.txt']\n"
     ]
    }
   ],
   "source": [
    "import glob\n",
    "import filecmp\n",
    "ignore = ['*.txt', '*.exe']\n",
    "ignore_list = []\n",
    "patterns_to_ignore = ignore\n",
    "for pattern in patterns_to_ignore:\n",
    "    ignore_left = [os.path.split(expanded)[1] for expanded in glob.glob(os.path.join(src, pattern))]\n",
    "    ignore_right = [os.path.split(expanded)[1] for expanded in glob.glob(os.path.join(dst, pattern))]\n",
    "    ignore_list.extend(ignore_left)\n",
    "    ignore_list.extend(ignore_right)\n",
    "\n",
    "\n",
    "diff = filecmp.dircmp(src, dst, ignore=ignore_list)\n",
    "print(diff.ignore)\n"
   ]
  },
  {
   "cell_type": "code",
   "execution_count": 89,
   "metadata": {},
   "outputs": [
    {
     "name": "stdout",
     "output_type": "stream",
     "text": [
      "\n",
      "('*.txt', '*.exe') ('t', 'd', 'i')\n",
      "<function ignore_patterns.<locals>._ignore_patterns at 0x0000020271480AF0>\n"
     ]
    }
   ],
   "source": [
    "print()\n",
    "s = (\"t\", \"d\", \"i\")\n",
    "t = tuple(ignore)\n",
    "print(t, s)\n",
    "# shutil.ignore_patterns('*.pyc', 'tmp*')\n",
    "print(shutil.ignore_patterns(ignore))"
   ]
  },
  {
   "cell_type": "code",
   "execution_count": 16,
   "metadata": {},
   "outputs": [
    {
     "data": {
      "text/plain": [
       "'d:\\\\Git\\\\auto_saver_app\\\\test_folder\\\\2\\\\test.zip'"
      ]
     },
     "execution_count": 16,
     "metadata": {},
     "output_type": "execute_result"
    }
   ],
   "source": [
    "shutil.make_archive(\"test_folder/2/test\", 'zip', \"test_folder/2/backup\")"
   ]
  },
  {
   "cell_type": "code",
   "execution_count": 41,
   "metadata": {},
   "outputs": [
    {
     "data": {
      "text/plain": [
       "'test_folder/2/1\\\\3_saved'"
      ]
     },
     "execution_count": 41,
     "metadata": {},
     "output_type": "execute_result"
    }
   ],
   "source": [
    "\n",
    "src = \"test_folder/test_dst/test_src backup_11.12.2023_16h29m26s zipped.zip\"\n",
    "dst = \"test_folder/2/unzip\"\n",
    "dst2 = \"test_folder/2/1\"\n",
    "dst3 = \"test_folder/2/2/3_saved\"\n",
    "shutil.move(dst3, dst2)\n",
    "# shutil.move(dst, dst+\" tmp\")\n",
    "# shutil.unpack_archive(src, dst, \"zip\")\n"
   ]
  },
  {
   "cell_type": "code",
   "execution_count": 36,
   "metadata": {},
   "outputs": [
    {
     "data": {
      "text/plain": [
       "'test_folder/test_dst'"
      ]
     },
     "execution_count": 36,
     "metadata": {},
     "output_type": "execute_result"
    }
   ],
   "source": [
    "os.path.split(\"test_folder/test_dst/test_src backup_11.12.2023_16h29m26s zipped.zip\")[0]"
   ]
  },
  {
   "cell_type": "code",
   "execution_count": 27,
   "metadata": {},
   "outputs": [
    {
     "name": "stdout",
     "output_type": "stream",
     "text": [
      "d:\\Git\\auto_saver_app\\test_folder\n",
      "2\n"
     ]
    }
   ],
   "source": [
    "path, filename = os.path.split(\"d:\\\\Git\\\\auto_saver_app\\\\test_folder\\\\2\")\n",
    "print(path)\n",
    "print(filename)"
   ]
  },
  {
   "cell_type": "code",
   "execution_count": 29,
   "metadata": {},
   "outputs": [
    {
     "data": {
      "text/plain": [
       "False"
      ]
     },
     "execution_count": 29,
     "metadata": {},
     "output_type": "execute_result"
    }
   ],
   "source": [
    "import zipfile\n",
    "\n",
    "zipfile.is_zipfile('d:\\\\Git\\\\auto_saver_app\\\\test_folder\\\\2\\\\')"
   ]
  },
  {
   "cell_type": "code",
   "execution_count": 47,
   "metadata": {},
   "outputs": [],
   "source": [
    "import os\n",
    "os.path.exists(\"D:\\Git/auto_saver_app/test_folder/test_dst/backup_11.12.2023_19h19m34s/test_src\")\n",
    "src = \"D:\\Git/auto_saver_app/test_folder/test_dst/backup_11.12.2023_19h19m34s/test_src\"\n",
    "\n",
    "path, folder_name = os.path.split(src)\n",
    "# new_path = shutil.make_archive(os.path.join(path, f\"{folder_name} zipped\"), 'zip', src)\n",
    "new_path = shutil.make_archive(src, \"zip\", src)  "
   ]
  },
  {
   "cell_type": "code",
   "execution_count": 5,
   "metadata": {},
   "outputs": [],
   "source": [
    "with open(\"test_folder/test_src/test.txt\", \"a\") as file:\n",
    "    file.write(\"\\ntest\")"
   ]
  },
  {
   "cell_type": "code",
   "execution_count": 6,
   "metadata": {},
   "outputs": [],
   "source": [
    "import shutil\n",
    "shutil.rmtree(\"test_folder/test_dst/test\")"
   ]
  },
  {
   "cell_type": "code",
   "execution_count": 52,
   "metadata": {},
   "outputs": [
    {
     "data": {
      "text/plain": [
       "'backup_11.12.2023_19h30m50s'"
      ]
     },
     "execution_count": 52,
     "metadata": {},
     "output_type": "execute_result"
    }
   ],
   "source": [
    "test = \"D:\\Git/auto_saver_app/test_folder/test_dst/backup_11.12.2023_19h30m50s/test_src.zip\"\n",
    "\n",
    "os.path.basename(os.path.split(test)[0])"
   ]
  },
  {
   "cell_type": "code",
   "execution_count": 56,
   "metadata": {},
   "outputs": [],
   "source": [
    "tmp = \"D:\\Git/auto_saver_app/test_folder/test_dst/backup_11.12.2023_19h27m00s/test_src.zip\"\n",
    "tmp2 = tmp.replace(\".zip\", \"\")\n",
    "\n",
    "shutil.unpack_archive(tmp, tmp2, \"zip\")"
   ]
  },
  {
   "cell_type": "markdown",
   "metadata": {},
   "source": [
    "import os "
   ]
  },
  {
   "cell_type": "code",
   "execution_count": 8,
   "metadata": {},
   "outputs": [
    {
     "data": {
      "text/plain": [
       "'D:/Git/auto_saver_app/test_folder/test_dst/backup_17.12.2023_13h28m48s'"
      ]
     },
     "execution_count": 8,
     "metadata": {},
     "output_type": "execute_result"
    }
   ],
   "source": [
    "import os \n",
    "os.path.split(\"D:/Git/auto_saver_app/test_folder/test_dst/backup_17.12.2023_13h28m48s/test_src\")[0]"
   ]
  },
  {
   "cell_type": "code",
   "execution_count": 3,
   "metadata": {},
   "outputs": [
    {
     "data": {
      "text/plain": [
       "True"
      ]
     },
     "execution_count": 3,
     "metadata": {},
     "output_type": "execute_result"
    }
   ],
   "source": [
    "import os\n",
    "os.path.exists(\"test_folder\\PFO_doctors_2000_2018.xlsx\")"
   ]
  },
  {
   "cell_type": "code",
   "execution_count": null,
   "metadata": {},
   "outputs": [],
   "source": [
    "import github"
   ]
  }
 ],
 "metadata": {
  "kernelspec": {
   "display_name": ".venv",
   "language": "python",
   "name": "python3"
  },
  "language_info": {
   "codemirror_mode": {
    "name": "ipython",
    "version": 3
   },
   "file_extension": ".py",
   "mimetype": "text/x-python",
   "name": "python",
   "nbconvert_exporter": "python",
   "pygments_lexer": "ipython3",
   "version": "3.10.7"
  }
 },
 "nbformat": 4,
 "nbformat_minor": 2
}
