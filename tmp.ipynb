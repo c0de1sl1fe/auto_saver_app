{
 "cells": [
  {
   "cell_type": "code",
   "execution_count": 3,
   "metadata": {},
   "outputs": [],
   "source": [
    "import os"
   ]
  },
  {
   "cell_type": "code",
   "execution_count": 4,
   "metadata": {},
   "outputs": [],
   "source": [
    "n = os.path.join(\"D:/test\\save_test\\dst\", \"tmp\")\n",
    "\n",
    "\n",
    "t = os.mkdir(n)\n",
    "t"
   ]
  },
  {
   "cell_type": "code",
   "execution_count": 4,
   "metadata": {},
   "outputs": [],
   "source": [
    "# if os.path.exists(\"test\"):\n",
    "#     print(\"false\")\n",
    "os.mkdir(\"test_folder\")\n",
    "\n"
   ]
  },
  {
   "cell_type": "code",
   "execution_count": 14,
   "metadata": {},
   "outputs": [
    {
     "data": {
      "text/plain": [
       "'test_folder'"
      ]
     },
     "execution_count": 14,
     "metadata": {},
     "output_type": "execute_result"
    }
   ],
   "source": [
    "from utils import container_to_save_data\n",
    "import shutil\n",
    "t = container_to_save_data('t', 's', 0)\n",
    "# t.copy_folder(\"test\", \"test_folder/\", ignore=\".txt\")\n",
    "shutil.copytree(\"test\", 'test_folder', ignore=shutil.ignore_patterns(\"*.txt\"))"
   ]
  },
  {
   "cell_type": "code",
   "execution_count": 14,
   "metadata": {},
   "outputs": [
    {
     "name": "stdout",
     "output_type": "stream",
     "text": [
      "testtessst\n"
     ]
    }
   ],
   "source": [
    "import shutil\n",
    "\n",
    "with open(\"t1/test_folder/myfile.txt\", \"a\") as f:\n",
    "    f.write(\"tessst\")\n",
    "\n",
    "with open(\"t1/myfile.txt\", \"r\") as f:\n",
    "    tmp = f.read()\n",
    "    \n",
    "    print(tmp)\n",
    "\n",
    "\n"
   ]
  },
  {
   "cell_type": "code",
   "execution_count": 9,
   "metadata": {},
   "outputs": [
    {
     "name": "stdout",
     "output_type": "stream",
     "text": [
      "testtessst\n"
     ]
    }
   ],
   "source": [
    "\n",
    "shutil.copy(\"t1/myfile.txt\", 't2/myfile.txt')\n",
    "with open(\"t2/myfile.txt\", \"r\") as f:\n",
    "    tmp = f.read()\n",
    "    print(tmp)\n"
   ]
  },
  {
   "cell_type": "code",
   "execution_count": 25,
   "metadata": {},
   "outputs": [
    {
     "name": "stdout",
     "output_type": "stream",
     "text": [
      "error [WinError 183] Cannot create a file when that file already exists: 'new_t'\n"
     ]
    }
   ],
   "source": [
    "try:\n",
    "    shutil.copytree(\"t1\", \"new_t\")\n",
    "except Exception as e:\n",
    "    print(f\"error {e}\")"
   ]
  },
  {
   "cell_type": "code",
   "execution_count": 23,
   "metadata": {},
   "outputs": [
    {
     "name": "stdout",
     "output_type": "stream",
     "text": [
      "Error: new_t - The system cannot find the path specified.\n"
     ]
    }
   ],
   "source": [
    "try:\n",
    "    shutil.rmtree(\"new_t\")\n",
    "except OSError as e:\n",
    "    print(\"Error: %s - %s.\" % (e.filename, e.strerror))\n"
   ]
  },
  {
   "cell_type": "code",
   "execution_count": 33,
   "metadata": {},
   "outputs": [],
   "source": [
    "from filecmp import dircmp\n",
    "def print_diff_files(dcmp):\n",
    "    for name in dcmp.diff_files:\n",
    "        print(\"diff_file %s found in %s and %s\" % (name, dcmp.left,\n",
    "              dcmp.right))\n",
    "    for sub_dcmp in dcmp.subdirs.values():\n",
    "        print_diff_files(sub_dcmp)"
   ]
  },
  {
   "cell_type": "code",
   "execution_count": 6,
   "metadata": {},
   "outputs": [
    {
     "data": {
      "text/plain": [
       "True"
      ]
     },
     "execution_count": 6,
     "metadata": {},
     "output_type": "execute_result"
    }
   ],
   "source": [
    "import filecmp\n",
    "import os.path\n",
    "\n",
    "def are_dir_trees_equal(dir1, dir2):\n",
    "    \"\"\"\n",
    "    Compare two directories recursively. Files in each directory are\n",
    "    assumed to be equal if their names and contents are equal.\n",
    "\n",
    "    param dir1: First directory path\n",
    "    param dir2: Second directory path\n",
    "\n",
    "    return: True if the directory trees are the same and \n",
    "        there were no errors while accessing the directories or files, \n",
    "        False otherwise.\n",
    "   \"\"\"\n",
    "\n",
    "    dirs_cmp = filecmp.dircmp(dir1, dir2)\n",
    "    if len(dirs_cmp.left_only)>0 or len(dirs_cmp.right_only)>0 or \\\n",
    "        len(dirs_cmp.funny_files)>0:\n",
    "        return False\n",
    "    (_, mismatch, errors) =  filecmp.cmpfiles(\n",
    "        dir1, dir2, dirs_cmp.common_files, shallow=False)\n",
    "    if len(mismatch)>0 or len(errors)>0:\n",
    "        return False\n",
    "    for common_dir in dirs_cmp.common_dirs:\n",
    "        new_dir1 = os.path.join(dir1, common_dir)\n",
    "        new_dir2 = os.path.join(dir2, common_dir)\n",
    "        if not are_dir_trees_equal(new_dir1, new_dir2):\n",
    "            return False\n",
    "    return True\n",
    "\n",
    "\n",
    "\n",
    "are_dir_trees_equal(\"test/1\", 'test/2')"
   ]
  },
  {
   "cell_type": "code",
   "execution_count": 1,
   "metadata": {},
   "outputs": [
    {
     "name": "stdout",
     "output_type": "stream",
     "text": [
      "empty\n"
     ]
    }
   ],
   "source": [
    "ignore = []\n",
    "if not ignore: \n",
    "    print(\"empty\")"
   ]
  },
  {
   "cell_type": "code",
   "execution_count": 11,
   "metadata": {},
   "outputs": [
    {
     "data": {
      "text/plain": [
       "False"
      ]
     },
     "execution_count": 11,
     "metadata": {},
     "output_type": "execute_result"
    }
   ],
   "source": [
    "from utils import container_to_save_data\n",
    "l = container_to_save_data('test', \"test_folder\", 0)\n",
    "l.copy_folder(\"test/1\", \"test/t\")\n"
   ]
  },
  {
   "cell_type": "code",
   "execution_count": 13,
   "metadata": {},
   "outputs": [
    {
     "data": {
      "text/plain": [
       "True"
      ]
     },
     "execution_count": 13,
     "metadata": {},
     "output_type": "execute_result"
    }
   ],
   "source": [
    "import os\n",
    "import shutil\n",
    "def copy_folder(src: str, dst: str, ignore = []) -> bool:\n",
    "    \"\"\"\n",
    "    Create a copy of scr into dst\n",
    "    input:  src:     string\n",
    "            dst:     string\n",
    "            ingnore: list of ignored files\n",
    "    return: bool\n",
    "    \"\"\"\n",
    "    if not os.path.exists(src):\n",
    "        return False\n",
    "    try:\n",
    "        if ignore:\n",
    "            shutil.copytree(src, dst, ignore=shutil.ignore_patterns(ignore), dirs_exist_ok=False)\n",
    "        else:\n",
    "            shutil.copytree(src, dst, dirs_exist_ok=True)\n",
    "        return True\n",
    "    except Exception as e:\n",
    "        print(f\"error {e}\")\n",
    "        return False\n",
    "    \n",
    "copy_folder(\"test/1\", \"test/t2\")\n"
   ]
  }
 ],
 "metadata": {
  "kernelspec": {
   "display_name": ".venv",
   "language": "python",
   "name": "python3"
  },
  "language_info": {
   "codemirror_mode": {
    "name": "ipython",
    "version": 3
   },
   "file_extension": ".py",
   "mimetype": "text/x-python",
   "name": "python",
   "nbconvert_exporter": "python",
   "pygments_lexer": "ipython3",
   "version": "3.10.7"
  }
 },
 "nbformat": 4,
 "nbformat_minor": 2
}
